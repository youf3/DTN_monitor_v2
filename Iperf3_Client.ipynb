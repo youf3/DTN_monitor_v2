{
 "cells": [
  {
   "cell_type": "markdown",
   "metadata": {},
   "source": [
    "# Step 0. Definition"
   ]
  },
  {
   "cell_type": "code",
   "execution_count": null,
   "metadata": {
    "collapsed": true,
    "scrolled": true
   },
   "outputs": [],
   "source": [
    "#import dtnmonitor_v2 as dtn\n",
    "import dtn_module.dtnmonitor_v3  as DtnModule\n",
    "import os,sys\n",
    "import getpass\n",
    "import subprocess\n",
    "\n",
    "dtn = DtnModule.DTNMonitor()\n",
    "\n",
    "user=getpass.getuser()\n",
    "\n",
    "DtnModule.show_interface()\n",
    "\n",
    "## this is necessary to show exec info in notebook\n",
    "def exec_print(command):\n",
    "    process = subprocess.Popen([command], stdout=subprocess.PIPE,stderr=subprocess.STDOUT, shell=True)\n",
    "    for line in iter(process.stdout.readline, b''):\n",
    "        # system print\n",
    "        sys.stdout.write(line)   "
   ]
  },
  {
   "cell_type": "markdown",
   "metadata": {},
   "source": [
    "# Step 1. Parameter Setting"
   ]
  },
  {
   "cell_type": "code",
   "execution_count": null,
   "metadata": {
    "collapsed": true
   },
   "outputs": [],
   "source": [
    "########## Necessary\n",
    "###  SELECT THE MONITOR NETWORK INTERFACE\n",
    "## used in Step 1,2,3 , if you don't know the interface name, you can use 'all'\n",
    "## make sure the interface is correct, error_naming or without network flow will get empty grath\n",
    "#dtn.interface = 'eth0.1301'\n",
    "dtn.interface = 'all'\n",
    "#dtn.interface = 'all'\n",
    "\n",
    "###  Iperf3 SERVER IP \n",
    "## used in Step 2,3 : input iperf3 server's ip\n",
    "iperf3_server=\"10.250.38.52\"\n",
    "\n",
    "########## Optional\n",
    "###  Iperf3 THREADS\n",
    "## used in Step 2,3 :input threads number\n",
    "count = 4\n",
    "\n",
    "###  Period Time\n",
    "test_time=\"200\" # second\n",
    "\n",
    "###  iperf parameter\n",
    "window_size=\"1M\" # M,K\n",
    "\n",
    "## display the time period\n",
    "# [0,100]: 100 means display current 100 secs, 0=all\n",
    "dtn.max_graph_point=20\n",
    "\n",
    "print('You select ..... {:40s} '.format(dtn.interface))\n"
   ]
  },
  {
   "cell_type": "markdown",
   "metadata": {},
   "source": [
    "# Step 2. Test network transfer by memory"
   ]
  },
  {
   "cell_type": "code",
   "execution_count": null,
   "metadata": {
    "collapsed": true
   },
   "outputs": [],
   "source": [
    "\n",
    "command = \"\"\n",
    "for i in range(count):\n",
    "     command += \"iperf3 -w \"+window_size+\" -Z -t \"+test_time+\"s -p 5500\"+str(i + 1)+ \" -c \"+ iperf3_server +\" & \"\n",
    "print(\"== Command is as below: == \")\n",
    "print(command)"
   ]
  },
  {
   "cell_type": "code",
   "execution_count": null,
   "metadata": {
    "collapsed": true,
    "scrolled": true
   },
   "outputs": [],
   "source": [
    "os.system(command)\n",
    "dtn.run_monitor(timeout=int(test_time) + 5 )\n",
    " "
   ]
  },
  {
   "cell_type": "markdown",
   "metadata": {},
   "source": [
    "## Step A . stop the Iperf3 server"
   ]
  },
  {
   "cell_type": "code",
   "execution_count": null,
   "metadata": {
    "collapsed": true,
    "scrolled": true
   },
   "outputs": [],
   "source": [
    "dtn.stop()\n",
    "\n",
    "exec_print(\"killall -u \"+user+\" iperf3\")"
   ]
  },
  {
   "cell_type": "markdown",
   "metadata": {},
   "source": [
    "## Step B . check Iperf3 server status"
   ]
  },
  {
   "cell_type": "code",
   "execution_count": null,
   "metadata": {
    "collapsed": true
   },
   "outputs": [],
   "source": [
    "exec_print(\"ps -u \"+ user +\" ux |grep iperf3\")"
   ]
  },
  {
   "cell_type": "code",
   "execution_count": null,
   "metadata": {
    "collapsed": true
   },
   "outputs": [],
   "source": []
  }
 ],
 "metadata": {
  "kernelspec": {
   "display_name": "Python 3",
   "language": "python",
   "name": "python3"
  },
  "language_info": {
   "codemirror_mode": {
    "name": "ipython",
    "version": 3
   },
   "file_extension": ".py",
   "mimetype": "text/x-python",
   "name": "python",
   "nbconvert_exporter": "python",
   "pygments_lexer": "ipython3",
   "version": "3.4.5"
  }
 },
 "nbformat": 4,
 "nbformat_minor": 2
}
