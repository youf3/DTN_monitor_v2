{
 "cells": [
  {
   "cell_type": "markdown",
   "metadata": {},
   "source": [
    "# Step 0. Definition"
   ]
  },
  {
   "cell_type": "code",
   "execution_count": 1,
   "metadata": {},
   "outputs": [
    {
     "name": "stdout",
     "output_type": "stream",
     "text": [
      "==========================================================\n",
      "Network Interface                        IP                   \n",
      "==========================================================\n",
      "lo0                                      127.0.0.1            \n",
      "en0                                      165.124.158.60       \n",
      "==========================================================\n",
      "Disk mountpoint                     size     avail   used%  \n",
      "==========================================================\n",
      "==========================================================\n",
      "Directory File Check                \n",
      "==========================================================\n",
      "ls: /data/disk*/sc17: No such file or directory\n"
     ]
    }
   ],
   "source": [
    "#import dtnmonitor_v2 as dtn\n",
    "import dtn_module.dtnmonitor_v3  as DtnModule\n",
    "import os,sys\n",
    "import getpass\n",
    "import subprocess\n",
    "\n",
    "dtn = DtnModule.DTNMonitor()\n",
    "\n",
    "user=getpass.getuser()\n",
    "\n",
    "DtnModule.show_interface()\n",
    "\n",
    "DtnModule.show_nvme()\n",
    "\n",
    "## this is necessary to show exec info in notebook\n",
    "def exec_print(command):\n",
    "    process = subprocess.Popen([command], stdout=subprocess.PIPE,stderr=subprocess.STDOUT, shell=True)\n",
    "    for line in iter(process.stdout.readline, b''):\n",
    "        # system print\n",
    "        sys.stdout.write(line)   "
   ]
  },
  {
   "cell_type": "markdown",
   "metadata": {},
   "source": [
    "# Step 1. Parameter Setting"
   ]
  },
  {
   "cell_type": "code",
   "execution_count": 2,
   "metadata": {
    "collapsed": true
   },
   "outputs": [],
   "source": [
    "\n",
    "### P5.  SELECT THE MONITOR NETWORK INTERFACE  ###\n",
    "## used in Step 4 , if you don't know the interface name, you can use 'all'\n",
    "## make sure the interface is correct, error_naming or without network flow will get empty grath\n",
    "#dtn.interface = 'eth0.1301'\n",
    "#dtn.interface = 'eth0.2038' \n",
    "dtn.interface = 'all'\n",
    "#dtn.interface = 'eth1'\n",
    "#dtn.interface = 'all'\n",
    "\n",
    "### P4. SELECT OUTPUT FILE , \n",
    "### used in Step 3 : nuttcp write file , the file number decides the amount of network flow threads \n",
    "file_write_nuttcp=[\n",
    "\"/data/disk0/sc17/w11\",\n",
    "\"/data/disk1/sc17/w12\",\n",
    "\"/data/disk2/sc17/w13\",\n",
    "\"/data/disk3/sc17/w14\",\n",
    "\"/data/disk4/sc17/w15\",\n",
    "\"/data/disk5/sc17/w16\",\n",
    "\"/data/disk6/sc17/w17\",\n",
    "\"/data/disk7/sc17/w18\",\n",
    "    # \"/foo/bar/filennn\"\n",
    "     ]\n",
    "\n",
    "file2_write_nuttcp=[\n",
    "\"/data/disk0/sc17/w31\",\n",
    "\"/data/disk1/sc17/w32\",\n",
    "\"/data/disk2/sc17/w33\",\n",
    "\"/data/disk3/sc17/w34\",\n",
    "\"/data/disk4/sc17/w35\",\n",
    "\"/data/disk5/sc17/w36\",\n",
    "\"/data/disk6/sc17/w37\",\n",
    "\"/data/disk7/sc17/w38\",\n",
    "    # \"/foo/bar/filennn\"\n",
    "     ]\n",
    "\n",
    "\n",
    "\n",
    "## used in Step 2 :input threads number\n",
    "count = len(file_write_nuttcp)"
   ]
  },
  {
   "cell_type": "markdown",
   "metadata": {},
   "source": [
    "# Step 2. Start servers for network transfer by disk"
   ]
  },
  {
   "cell_type": "code",
   "execution_count": null,
   "metadata": {
    "collapsed": true,
    "scrolled": true
   },
   "outputs": [],
   "source": [
    "\n",
    "for i in range(count):\n",
    "    command = \"nuttcp -S -1 -sdz -P 5300\"+str(i)+\" -p 5310\"+str(i)+ \" > \"+ file_write_nuttcp[i] +\" & \"\n",
    "    os.system(command)\n",
    "    print(command)\n",
    "    command = \"nuttcp -S -1 -sdz -P 5320\"+str(i)+\" -p 5330\"+str(i)+ \" > \"+ file2_write_nuttcp[i] +\" & \"\n",
    "    print(command)\n",
    "    os.system(command)\n",
    "    #dtn.exec_sysout(command)\n",
    "\n"
   ]
  },
  {
   "cell_type": "code",
   "execution_count": null,
   "metadata": {
    "collapsed": true,
    "scrolled": true
   },
   "outputs": [],
   "source": [
    "exec_print(\"sleep 3; ps -u \"+ user +\" ux |grep nuttcp\")"
   ]
  },
  {
   "cell_type": "markdown",
   "metadata": {},
   "source": [
    "# Step 3. Start Monitor"
   ]
  },
  {
   "cell_type": "code",
   "execution_count": null,
   "metadata": {
    "collapsed": true,
    "scrolled": true
   },
   "outputs": [],
   "source": [
    "dtn.run_monitor(timeout=None)"
   ]
  },
  {
   "cell_type": "markdown",
   "metadata": {},
   "source": [
    "# Step A . stop the test nuttcp"
   ]
  },
  {
   "cell_type": "code",
   "execution_count": null,
   "metadata": {
    "collapsed": true,
    "scrolled": true
   },
   "outputs": [],
   "source": [
    "dtn.stop()\n",
    "\n",
    "exec_print(\"pkill nuttcp\")\n",
    "\n",
    "exec_print(\"sleep 3; ps -u \"+ user +\" ux |grep nuttcp\")"
   ]
  },
  {
   "cell_type": "code",
   "execution_count": null,
   "metadata": {
    "collapsed": true
   },
   "outputs": [],
   "source": []
  }
 ],
 "metadata": {
  "kernelspec": {
   "display_name": "Python 3",
   "language": "python",
   "name": "python3"
  },
  "language_info": {
   "codemirror_mode": {
    "name": "ipython",
    "version": 3
   },
   "file_extension": ".py",
   "mimetype": "text/x-python",
   "name": "python",
   "nbconvert_exporter": "python",
   "pygments_lexer": "ipython3",
   "version": "3.4.5"
  }
 },
 "nbformat": 4,
 "nbformat_minor": 2
}
