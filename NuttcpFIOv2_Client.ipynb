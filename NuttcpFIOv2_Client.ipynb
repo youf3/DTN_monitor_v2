{
 "cells": [
  {
   "cell_type": "markdown",
   "metadata": {},
   "source": [
    "# Step 0. Definition"
   ]
  },
  {
   "cell_type": "code",
   "execution_count": null,
   "metadata": {
    "collapsed": true
   },
   "outputs": [],
   "source": [
    "#import dtnmonitor_v2 as dtn\n",
    "import dtn_module.dtnmonitor_v3  as DtnModule\n",
    "import os,sys\n",
    "import getpass\n",
    "import subprocess\n",
    "\n",
    "dtn = DtnModule.DTNMonitor()\n",
    "\n",
    "user=getpass.getuser()\n",
    "\n",
    "DtnModule.show_interface()\n",
    "\n",
    "DtnModule.show_nvme()\n",
    "\n",
    "## this is necessary to show exec info in notebook\n",
    "def exec_print(command):\n",
    "    process = subprocess.Popen([command], stdout=subprocess.PIPE,stderr=subprocess.STDOUT, shell=True)\n",
    "    for line in iter(process.stdout.readline, b''):\n",
    "        # system print\n",
    "        sys.stdout.write(line)   "
   ]
  },
  {
   "cell_type": "markdown",
   "metadata": {},
   "source": [
    "# Step 1. Parameter Setting"
   ]
  },
  {
   "cell_type": "code",
   "execution_count": null,
   "metadata": {
    "collapsed": true,
    "scrolled": true
   },
   "outputs": [],
   "source": [
    "### P1. SELECT THE MONITOR NETWORK INTERFACE\n",
    "## used in Step 1,2,3 , if you don't know the interface name, you can use 'all'\n",
    "## make sure the interface is correct, error_naming or without network flow will get empty grath\n",
    "#dtn.interface = 'eth0.1301'\n",
    "#dtn.interface = 'eth0.2038' \n",
    "#dtn.interface = 'ens1f0.3061'\n",
    "#dtn.interface = 'eth1'\n",
    "dtn.interface = 'all'\n",
    "\n",
    "\n",
    "### P2. SELECT THE INPUT FILE , \n",
    "## used in Step 1 : file IO read file\n",
    "\n",
    "\n",
    "\n",
    "file_read_nuttcp=[\n",
    "\"/data/disk0/sc17/100gtest\",\n",
    "\"/data/disk1/sc17/100gtest\",\n",
    "\"/data/disk2/sc17/100gtest\",\n",
    "\"/data/disk3/sc17/100gtest\",\n",
    "\"/data/disk4/sc17/100gtest\",\n",
    "\"/data/disk5/sc17/100gtest\",\n",
    "\"/data/disk6/sc17/100gtest\",\n",
    "\"/data/disk7/sc17/100gtest\",\n",
    "    # \"/foo/bar/filennn\"\n",
    "     ]\n",
    "\n",
    "file2_read_nuttcp=[\n",
    "\"/data/disk0/sc17/fftest\",\n",
    "\"/data/disk1/sc17/fftest\",\n",
    "\"/data/disk2/sc17/fftest\",\n",
    "\"/data/disk3/sc17/fftest\",\n",
    "\"/data/disk4/sc17/fftest\",\n",
    "\"/data/disk5/sc17/fftest\",\n",
    "\"/data/disk6/sc17/fftest\",\n",
    "\"/data/disk7/sc17/fftest\",\n",
    "    # \"/foo/bar/filennn\"\n",
    "     ]\n",
    "\n",
    "### P3. NUTTCP SERVER IP \n",
    "## used in Step 2,3 : input nuttcp server's ip\n",
    "nuttcp_server=\"192.168.61.57\"\n",
    "\n",
    "### P4. NUTTCP THREADS\n",
    "## used in Step 2,3 :input threads number\n",
    "count = len(file_read_nuttcp)\n"
   ]
  },
  {
   "cell_type": "markdown",
   "metadata": {},
   "source": [
    "# Step 2. Test network transfer by disk"
   ]
  },
  {
   "cell_type": "code",
   "execution_count": null,
   "metadata": {
    "collapsed": true,
    "scrolled": false
   },
   "outputs": [],
   "source": [
    "for i in range(count):\n",
    "    command = \"nuttcp -t -i1 -sdz -xc \"+str(i)+\" -w 110M -P 5300\"+str(i)+\" -p 5310\"+str(i)+ \" \"+ nuttcp_server +\" < \"+ file_read_nuttcp[i] +\" & \"\n",
    "    print(command)\n",
    "    os.system(command)\n",
    "    command = \"nuttcp -t -i1 -sdz -xc \"+str(i)+\" -w 110M -P 5320\"+str(i)+\" -p 5330\"+str(i)+ \" \"+ nuttcp_server +\" < \"+ file2_read_nuttcp[i] +\" & \"\n",
    "    print(command)\n",
    "    os.system(command)\n",
    " \n",
    "\n"
   ]
  },
  {
   "cell_type": "code",
   "execution_count": null,
   "metadata": {
    "collapsed": true
   },
   "outputs": [],
   "source": [
    "dtn.run_monitor(timeout=None)"
   ]
  },
  {
   "cell_type": "markdown",
   "metadata": {},
   "source": [
    "# Step A . stop the test nuttcp"
   ]
  },
  {
   "cell_type": "code",
   "execution_count": null,
   "metadata": {
    "collapsed": true
   },
   "outputs": [],
   "source": [
    "dtn.stop()\n",
    "\n",
    "exec_print(\"pkill nuttcp\")\n",
    "\n",
    "exec_print(\"sleep 3; ps -u \"+ user +\" ux |grep nuttcp\")"
   ]
  }
 ],
 "metadata": {
  "kernelspec": {
   "display_name": "Python 3",
   "language": "python",
   "name": "python3"
  },
  "language_info": {
   "codemirror_mode": {
    "name": "ipython",
    "version": 3
   },
   "file_extension": ".py",
   "mimetype": "text/x-python",
   "name": "python",
   "nbconvert_exporter": "python",
   "pygments_lexer": "ipython3",
   "version": "3.4.5"
  }
 },
 "nbformat": 4,
 "nbformat_minor": 2
}
